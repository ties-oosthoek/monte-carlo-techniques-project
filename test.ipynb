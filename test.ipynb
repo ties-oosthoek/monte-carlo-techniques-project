{
 "cells": [
  {
   "cell_type": "code",
   "id": "initial_id",
   "metadata": {
    "collapsed": true,
    "ExecuteTime": {
     "end_time": "2024-12-11T12:17:13.658113Z",
     "start_time": "2024-12-11T12:17:13.655032Z"
    }
   },
   "source": [
    "import numpy as np\n",
    "import matplotlib.pyplot as plt\n",
    "import h5py\n",
    "rng = np.random.default_rng()"
   ],
   "outputs": [],
   "execution_count": 85
  },
  {
   "metadata": {
    "ExecuteTime": {
     "end_time": "2024-12-11T12:17:13.928707Z",
     "start_time": "2024-12-11T12:17:13.925430Z"
    }
   },
   "cell_type": "code",
   "source": [
    "def ordered_state(width):\n",
    "    return np.exp(2j * np.pi * np.zeros((width,width,width,width,4)))\n",
    "\n",
    "def disordered_state(width):\n",
    "    return np.exp(2j * np.pi * np.random.rand(width,width,width,width,4))"
   ],
   "id": "674896c67fd219fa",
   "outputs": [],
   "execution_count": 86
  },
  {
   "metadata": {
    "ExecuteTime": {
     "end_time": "2024-12-11T12:17:14.293915Z",
     "start_time": "2024-12-11T12:17:14.282413Z"
    }
   },
   "cell_type": "code",
   "source": [
    "def run_lattice_heatbath(U_state,beta,n):\n",
    "    \"\"\"Perform n heatbath updates on the lattice state U_state.\"\"\"\n",
    "    for _ in range(n):\n",
    "        lattice_heatbath_update(U_state,beta)\n",
    "\n",
    "def lattice_heatbath_update(U_state,beta):\n",
    "    \"\"\"Perform a random heatbath update on the lattice state U_state.\"\"\"\n",
    "    width = len(U_state)\n",
    "    link_index = random_link_index(width)\n",
    "    U_state[link_index] = sample_link_variable(U_state,beta,link_index)\n",
    "\n",
    "def random_link_index(width):\n",
    "    \"\"\"Return a random link index (n_x,n_y,n_z,kappa)\"\"\"\n",
    "    return tuple(rng.integers(0,[width,width,width,width,4]))\n",
    "\n",
    "def sample_link_variable(state,beta,link_index):\n",
    "    \"\"\"Sample link variable U = exp(i*theta).\"\"\"\n",
    "    link_variable_sum = relevant_link_variable_sum(state,link_index)\n",
    "    alpha = beta*np.real(link_variable_sum)\n",
    "    phi = np.angle(link_variable_sum)\n",
    "    while True:\n",
    "        Z = rng.uniform(0,1)\n",
    "        x = -1 + np.log(1 + (np.exp(2*alpha) - 1)*Z)/alpha\n",
    "\n",
    "        Q = np.exp(alpha*(np.cos(np.pi/2*(1-x))-x))\n",
    "        Q_max = np.exp(0.2105137*alpha)\n",
    "\n",
    "        Z_prime = rng.uniform(0,1)\n",
    "        if Q/Q_max > Z_prime:\n",
    "            theta = np.pi*(1-x)/2 - phi\n",
    "            return np.exp(1j*theta)\n",
    "\n",
    "def relevant_link_variable_sum(state,link_index):\n",
    "    \"\"\"Return the sum of the link variables present in the plaquettes containing the relevant link,\n",
    "    without the contribution of the link itself.\"\"\"\n",
    "    width = len(state)\n",
    "    base = np.array(link_index[:4])\n",
    "    kappa = link_index[-1]\n",
    "    kappa_hat = get_unit_vector(kappa)\n",
    "\n",
    "    result = 0\n",
    "    for nu in range(4):\n",
    "        if nu != kappa:\n",
    "            nu_hat = get_unit_vector(nu)\n",
    "            contribution = state[get_lattice_vector(base+kappa_hat,width)][nu]\n",
    "            contribution *= state[get_lattice_vector(base+nu_hat,width)][kappa]\n",
    "            contribution *= state[get_lattice_vector(base,width)][nu]\n",
    "            result += contribution\n",
    "\n",
    "    return result\n",
    "\n",
    "def get_unit_vector(index):\n",
    "    \"\"\"Return the unit vector from the dimension index.\"\"\"\n",
    "    vector = np.zeros(4).astype(int)\n",
    "    vector[index] = 1\n",
    "    return vector\n",
    "\n",
    "def get_plaquette_values(state,vertex,mu_vector,nu_vector):\n",
    "    \"\"\"Return the plaquette link variable values from the plaquette vertex and two plane vectors.\"\"\"\n",
    "    width = len(state)\n",
    "\n",
    "    vertex = np.array(vertex)\n",
    "    mu_vector, nu_vector = np.array(mu_vector), np.array(nu_vector)\n",
    "    mu_index, nu_index = get_unit_vector_index(mu_vector), get_unit_vector_index(nu_vector)\n",
    "\n",
    "    return [\n",
    "        state[get_lattice_vector(vertex,width)][mu_index],\n",
    "        state[get_lattice_vector(vertex + mu_vector,width)][nu_index],\n",
    "        np.conj(state[get_lattice_vector(vertex + mu_vector + nu_vector,width)][nu_index]),\n",
    "        np.conj(state[get_lattice_vector(vertex,width)][nu_index])\n",
    "    ]\n",
    "\n",
    "def get_unit_vector_index(vector):\n",
    "    \"\"\"Return the index of the unit vector.\"\"\"\n",
    "    return np.flatnonzero(vector)[0].astype(int)\n",
    "\n",
    "def get_lattice_vector(vector,width):\n",
    "    \"\"\"Get the lattice vector periodic with the lattice width.\"\"\"\n",
    "    return tuple(map(lambda i: i % width, vector))"
   ],
   "id": "bc3ac9f0fbac488a",
   "outputs": [],
   "execution_count": 87
  },
  {
   "metadata": {
    "ExecuteTime": {
     "end_time": "2024-12-11T12:17:14.766861Z",
     "start_time": "2024-12-11T12:17:14.759089Z"
    }
   },
   "cell_type": "code",
   "source": [
    "def lattice_action(state):\n",
    "    \"\"\"Compute action of the lattice state.\"\"\"\n",
    "    action = 0\n",
    "    plaquette_corners = get_unique_unoriented_plaquette_corners(len(state))\n",
    "    for corners in plaquette_corners:\n",
    "        if len(get_plane_vectors_from_corners(corners)) == 2:\n",
    "            values = get_plaquette_values_from_corners(state,corners)\n",
    "            action += 1 - np.real(np.prod(values))\n",
    "    return action\n",
    "\n",
    "def get_unique_unoriented_plaquette_corners(width):\n",
    "    \"\"\"Return pairs of vertices forming the corners of only unique and unoriented lattice plaquettes.\"\"\"\n",
    "    unique_unoriented_corners = []\n",
    "    for corners in get_plaquettes_corners(width):\n",
    "        sorted_corners = tuple(sorted(corners))\n",
    "        if sorted_corners not in unique_unoriented_corners:\n",
    "            unique_unoriented_corners.append(sorted_corners)\n",
    "    return unique_unoriented_corners\n",
    "\n",
    "def get_plaquettes_corners(width):\n",
    "    \"\"\"Return pairs of vertices forming the corners of lattice plaquettes.\"\"\"\n",
    "    plaquette_corners = []\n",
    "    for vertex in lattice_vertices(width):\n",
    "        for mu_vector,nu_vector in get_plane_vectors():\n",
    "            plaquette_corners.append([\n",
    "                get_lattice_vector(vertex,width),\n",
    "                get_lattice_vector(vertex + mu_vector,width),\n",
    "                get_lattice_vector(vertex + nu_vector,width),\n",
    "                get_lattice_vector(vertex + mu_vector + nu_vector,width)\n",
    "            ])\n",
    "    return plaquette_corners\n",
    "\n",
    "def lattice_vertices(width):\n",
    "    \"\"\"Compute the vertices of the lattice with given width.\"\"\"\n",
    "    vertices = []\n",
    "    for n_x in range(width):\n",
    "        for n_y in range(width):\n",
    "            for n_z in range(width):\n",
    "                for n_t in range(width):\n",
    "                    vertex = (n_x,n_y,n_z,n_t)\n",
    "                    vertices.append(vertex)\n",
    "    return vertices\n",
    "\n",
    "def get_plane_vectors():\n",
    "    \"\"\"Return pairs of vectors (mu_vector,nu_vector) forming unique planes on the lattice.\"\"\"\n",
    "    plane_vectors = []\n",
    "    for mu in range(4):\n",
    "        for nu in range(4):\n",
    "            if mu < nu:\n",
    "                plane_vectors.append((get_unit_vector(mu),get_unit_vector(nu)))\n",
    "    return plane_vectors\n",
    "\n",
    "def get_plaquette_values_from_corners(state,corners):\n",
    "    \"\"\"Return the plaquette link variable values from the four corners of the plaquette.\"\"\"\n",
    "    corners = tuple(sorted(corners))\n",
    "\n",
    "    vertex = np.array(corners[0])\n",
    "    plane_vectors = get_plane_vectors_from_corners(corners)\n",
    "    mu_vector, nu_vector = np.array(plane_vectors[0]), np.array(plane_vectors[1])\n",
    "\n",
    "    if get_unit_vector_index(mu_vector) > get_unit_vector_index(nu_vector):\n",
    "        mu_vector, nu_vector = nu_vector, mu_vector\n",
    "\n",
    "    return get_plaquette_values(state,vertex,mu_vector,nu_vector)\n",
    "\n",
    "def get_plane_vectors_from_corners(corners):\n",
    "    plane_vectors = []\n",
    "    for i in range(4):\n",
    "        for j in range(4):\n",
    "            difference_vector = tuple(np.abs(np.array(corners[i]) - np.array(corners[j])))\n",
    "            is_unit_vector = np.linalg.norm(difference_vector) == 1.0\n",
    "            if is_unit_vector and difference_vector not in plane_vectors:\n",
    "                plane_vectors.append(difference_vector)\n",
    "    return plane_vectors"
   ],
   "id": "551783d5b0a983c3",
   "outputs": [],
   "execution_count": 88
  },
  {
   "metadata": {
    "ExecuteTime": {
     "end_time": "2024-12-11T12:17:15.443629Z",
     "start_time": "2024-12-11T12:17:15.439510Z"
    }
   },
   "cell_type": "code",
   "source": [
    "def run_simulation(state,beta,k,n,measurements):\n",
    "    \"\"\"Run the simulation with k equilibration sweeps and n measurement sweeps.\n",
    "    Returns the action measurement results.\"\"\"\n",
    "    num_links = 4*len(state)**4\n",
    "\n",
    "    # equilibrate\n",
    "    run_lattice_heatbath(state,beta,k*num_links)\n",
    "\n",
    "    # measure\n",
    "    results = np.empty(measurements)\n",
    "    for i in range(measurements):\n",
    "        run_lattice_heatbath(state,beta,n*num_links)\n",
    "        results[i] = lattice_action(state)\n",
    "        print(i)\n",
    "\n",
    "    return results"
   ],
   "id": "3d03647baa345106",
   "outputs": [],
   "execution_count": 89
  },
  {
   "metadata": {
    "ExecuteTime": {
     "end_time": "2024-12-11T14:38:00.976090Z",
     "start_time": "2024-12-11T14:37:58.916315Z"
    }
   },
   "cell_type": "code",
   "source": [
    "width = 4\n",
    "equil_sweeps = 1\n",
    "measure_sweeps = 1\n",
    "\n",
    "beta_values_range1 = np.arange(0.5, 0.85, 0.05)\n",
    "beta_values_range2 = np.arange(0.85, 1.15, 0.05)\n",
    "beta_values_range3= np.arange(1.15, 1.5, 0.05)\n",
    "beta_values = np.concatenate((beta_values_range1,beta_values_range2,beta_values_range3))\n",
    "\n",
    "measurements1 = np.full_like(beta_values_range1, 400, dtype=int)\n",
    "measurements2 = np.full_like(beta_values_range2, 7500, dtype=int)\n",
    "measurements3 = np.full_like(beta_values_range3, 400, dtype=int)\n",
    "measurements_per_beta = np.concatenate((measurements1,measurements2,measurements3))\n",
    "\n",
    "average_actions = []\n",
    "\n",
    "for beta, measurements in zip(beta_values, measurements_per_beta):\n",
    "    with h5py.File('lattice.hdf5', 'a') as f:\n",
    "        dataset_name = f\"beta{beta}-average-action-per-iterations\"\n",
    "        if dataset_name not in f:\n",
    "            U_state = ordered_state(width)\n",
    "            action_measurements = run_simulation(U_state, beta, equil_sweeps, measure_sweeps, measurements)\n",
    "            f.create_dataset(dataset_name, data=action_measurements)\n",
    "\n",
    "    with h5py.File('lattice.hdf5', 'r') as f:\n",
    "        action_measurements = f[dataset_name][()]\n",
    "\n",
    "        num_plaquettes = len(get_unique_unoriented_plaquette_corners(width))\n",
    "        actions = [action / num_plaquettes for action in action_measurements]\n",
    "\n",
    "        average_actions.append(np.mean(actions))\n",
    "\n",
    "# Plot the average action per plaquette vs. beta\n",
    "plt.scatter(beta_values, average_actions)\n",
    "plt.xlabel('Beta')\n",
    "plt.ylabel('Average Action per Plaquette')\n",
    "plt.title('Average Action per Plaquette vs Beta')\n",
    "plt.show()"
   ],
   "id": "a829abfee14ee483",
   "outputs": [
    {
     "data": {
      "text/plain": [
       "<Figure size 640x480 with 1 Axes>"
      ],
      "image/png": "[encoded data removed]"
     },
     "metadata": {},
     "output_type": "display_data"
    }
   ],
   "execution_count": 133
  }
 ],
 "metadata": {
  "kernelspec": {
   "display_name": "Python 3",
   "language": "python",
   "name": "python3"
  },
  "language_info": {
   "codemirror_mode": {
    "name": "ipython",
    "version": 2
   },
   "file_extension": ".py",
   "mimetype": "text/x-python",
   "name": "python",
   "nbconvert_exporter": "python",
   "pygments_lexer": "ipython2",
   "version": "2.7.6"
  }
 },
 "nbformat": 4,
 "nbformat_minor": 5
}
