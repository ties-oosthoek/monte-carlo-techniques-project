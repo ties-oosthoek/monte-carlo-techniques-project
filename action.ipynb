{
 "cells": [
  {
   "cell_type": "code",
   "id": "initial_id",
   "metadata": {
    "collapsed": true,
    "ExecuteTime": {
     "end_time": "2024-12-03T11:55:36.675261Z",
     "start_time": "2024-12-03T11:55:36.672812Z"
    }
   },
   "source": [
    "import numpy as np\n",
    "import matplotlib.pyplot as plt"
   ],
   "outputs": [],
   "execution_count": 15
  },
  {
   "metadata": {
    "ExecuteTime": {
     "end_time": "2024-12-03T11:55:38.040646Z",
     "start_time": "2024-12-03T11:55:38.037248Z"
    }
   },
   "cell_type": "code",
   "source": [
    "L = 4\n",
    "\n",
    "# Initialize the lattice\n",
    "lattice = np.ones((L, L, 4), dtype=complex)\n",
    "\n",
    "# Initialize each link\n",
    "for x in range(L):\n",
    "    for y in range(L):\n",
    "        for mu in range(4):\n",
    "            lattice[x, y, mu] = np.exp(2j * np.pi * np.random.random())\n",
    "\n",
    "def update_link(x, y, mu, beta, lattice):\n",
    "    \"\"\"\n",
    "    Update the link U_mu(x) using the Heat Bath algorithm.\n",
    "\n",
    "    Parameters:\n",
    "    x, y: coordinates of the lattice site\n",
    "    mu: direction of the link (0: x, 1: y, 2: t, 3: z)\n",
    "    beta: inverse coupling constant\n",
    "    lattice: the lattice configuration (a 4x4 array of U(1) link variables)\n",
    "    \"\"\"\n",
    "    # Define the neighboring directions for each link\n",
    "    neighbors = {\n",
    "        0: [(x - 1) % L, y],  # x-1, y (left)\n",
    "        1: [x, (y - 1) % L],  # x, y-1 (down)\n",
    "        2: [(x + 1) % L, y],  # x+1, y (right)\n",
    "        3: [x, (y + 1) % L],  # x, y+1 (up)\n",
    "    }\n",
    "\n",
    "    # Extract the neighboring link variables for the current link\n",
    "    link_product = 0.0\n",
    "    for nu in range(4):\n",
    "        if nu == mu:\n",
    "            continue\n",
    "        neighbor_x, neighbor_y = neighbors[nu]\n",
    "        link_product += np.angle(lattice[neighbor_x, neighbor_y, nu])\n",
    "\n",
    "    # Compute the new angle of the link to sample\n",
    "    angle = np.random.uniform(0, 2 * np.pi)\n",
    "\n",
    "    # Compute the new link\n",
    "    lattice[x, y, mu] = np.exp(1j * (angle + link_product))  # Update with the new angle\n",
    "\n",
    "def heat_bath_update(lattice, beta, L):\n",
    "    \"\"\"\n",
    "    Perform a Heat Bath update for the entire lattice.\n",
    "\n",
    "    Parameters:\n",
    "    lattice: the lattice configuration (a 4x4 array of U(1) link variables)\n",
    "    beta: inverse coupling constant\n",
    "    L: size of the lattice\n",
    "    \"\"\"\n",
    "    for x in range(L):\n",
    "        for y in range(L):\n",
    "            for mu in range(4):\n",
    "                update_link(x, y, mu, beta, lattice)"
   ],
   "id": "17d8962b6b801353",
   "outputs": [],
   "execution_count": 16
  }
 ],
 "metadata": {
  "kernelspec": {
   "display_name": "Python 3",
   "language": "python",
   "name": "python3"
  },
  "language_info": {
   "codemirror_mode": {
    "name": "ipython",
    "version": 2
   },
   "file_extension": ".py",
   "mimetype": "text/x-python",
   "name": "python",
   "nbconvert_exporter": "python",
   "pygments_lexer": "ipython2",
   "version": "2.7.6"
  }
 },
 "nbformat": 4,
 "nbformat_minor": 5
}
