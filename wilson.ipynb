{
 "cells": [
  {
   "cell_type": "code",
   "id": "initial_id",
   "metadata": {
    "collapsed": true,
    "ExecuteTime": {
     "end_time": "2024-12-02T13:01:30.727186Z",
     "start_time": "2024-12-02T13:01:30.667372Z"
    }
   },
   "source": [
    "import numpy as np\n",
    "rng = np.random.default_rng()\n",
    "\n",
    "def heatbath_update(U,beta):\n",
    "    site = tuple(rng.integers(0,len(U),4))\n",
    "    theta = sample_angle(beta)\n",
    "    U[site] = np.exp(1j*theta)\n",
    "\n",
    "def sample_angle(beta):\n",
    "    alpha = np.sqrt(2*beta)*beta\n",
    "\n",
    "    while True:\n",
    "        Z = rng.uniform(0,1)\n",
    "        x = -1 + np.log(1 + np.exp(2*alpha - 1)*Z)\n",
    "\n",
    "        Q = np.exp(alpha*(np.cos(np.pi/2*(1-x))-x))\n",
    "        Q_max = np.exp(0.2105137*alpha)\n",
    "\n",
    "        Z_prime = rng.uniform(0,1)\n",
    "        if Q/Q_max > Z_prime:\n",
    "            angle = np.pi*(1-x)/2\n",
    "            return angle\n",
    "\n",
    "def run_heatbath(U, beta, n, loop_sites_list):\n",
    "    wilson_loop_sum = 0.0\n",
    "    total_plaquettes = len(loop_sites_list)\n",
    "\n",
    "    for _ in range(n):\n",
    "        heatbath_update(U, beta)\n",
    "\n",
    "        # Sum Wilson loops for all plaquettes\n",
    "        loop_value_sum = 0.0\n",
    "        for loop_sites in loop_sites_list:\n",
    "            loop_value_sum += wilson_loop(U, loop_sites)\n",
    "\n",
    "        # Add the sum of loop values for this update\n",
    "        wilson_loop_sum += loop_value_sum\n",
    "\n",
    "    # Average Wilson loop value over all updates and all plaquettes\n",
    "    return wilson_loop_sum / (n * total_plaquettes)\n",
    "\n",
    "def create_plaquettes(width):\n",
    "    loop_sites_list = []\n",
    "    for x in range(width-1):   # Loop over the entire grid (excluding edges for plaquettes)\n",
    "        for y in range(width-1):\n",
    "            for z in range(width-1):\n",
    "                for t in range(width-1):\n",
    "                    loop_sites_list.append(create_plaquette(x, y, z, t))\n",
    "    return loop_sites_list"
   ],
   "outputs": [],
   "execution_count": 1
  },
  {
   "metadata": {
    "ExecuteTime": {
     "end_time": "2024-12-02T13:01:39.198834Z",
     "start_time": "2024-12-02T13:01:39.061616Z"
    }
   },
   "cell_type": "code",
   "source": [
    "# Lattice size\n",
    "width = 4\n",
    "U = np.exp(2j * np.pi * np.random.rand(width, width, width, width))\n",
    "n_updates = 1000\n",
    "\n",
    "beta = np.linspace(0.001, 2, 1000)\n",
    "\n",
    "# Create plaquettes for the entire grid\n",
    "loop_sites_list = create_plaquettes(width)\n",
    "\n",
    "for beta_value in beta:\n",
    "    average_wilson_loop = run_heatbath(U, beta, n_updates, loop_sites_list)\n",
    "    plt.plot(x=beta_value, y=run_heatbath(U, beta_value, n_updates, loop_sites_list))"
   ],
   "id": "7f369f0fd5e2ef78",
   "outputs": [
    {
     "ename": "NameError",
     "evalue": "name 'create_plaquette' is not defined",
     "output_type": "error",
     "traceback": [
      "\u001B[0;31m---------------------------------------------------------------------------\u001B[0m",
      "\u001B[0;31mNameError\u001B[0m                                 Traceback (most recent call last)",
      "Cell \u001B[0;32mIn[2], line 9\u001B[0m\n\u001B[1;32m      6\u001B[0m beta \u001B[38;5;241m=\u001B[39m np\u001B[38;5;241m.\u001B[39mlinspace(\u001B[38;5;241m0.001\u001B[39m, \u001B[38;5;241m2\u001B[39m, \u001B[38;5;241m1000\u001B[39m)\n\u001B[1;32m      8\u001B[0m \u001B[38;5;66;03m# Create plaquettes for the entire grid\u001B[39;00m\n\u001B[0;32m----> 9\u001B[0m loop_sites_list \u001B[38;5;241m=\u001B[39m \u001B[43mcreate_plaquettes\u001B[49m\u001B[43m(\u001B[49m\u001B[43mwidth\u001B[49m\u001B[43m)\u001B[49m\n\u001B[1;32m     11\u001B[0m \u001B[38;5;28;01mfor\u001B[39;00m beta_value \u001B[38;5;129;01min\u001B[39;00m beta:\n\u001B[1;32m     12\u001B[0m     average_wilson_loop \u001B[38;5;241m=\u001B[39m run_heatbath(U, beta, n_updates, loop_sites_list)\n",
      "Cell \u001B[0;32mIn[1], line 48\u001B[0m, in \u001B[0;36mcreate_plaquettes\u001B[0;34m(width)\u001B[0m\n\u001B[1;32m     46\u001B[0m         \u001B[38;5;28;01mfor\u001B[39;00m z \u001B[38;5;129;01min\u001B[39;00m \u001B[38;5;28mrange\u001B[39m(width\u001B[38;5;241m-\u001B[39m\u001B[38;5;241m1\u001B[39m):\n\u001B[1;32m     47\u001B[0m             \u001B[38;5;28;01mfor\u001B[39;00m t \u001B[38;5;129;01min\u001B[39;00m \u001B[38;5;28mrange\u001B[39m(width\u001B[38;5;241m-\u001B[39m\u001B[38;5;241m1\u001B[39m):\n\u001B[0;32m---> 48\u001B[0m                 loop_sites_list\u001B[38;5;241m.\u001B[39mappend(\u001B[43mcreate_plaquette\u001B[49m(x, y, z, t))\n\u001B[1;32m     49\u001B[0m \u001B[38;5;28;01mreturn\u001B[39;00m loop_sites_list\n",
      "\u001B[0;31mNameError\u001B[0m: name 'create_plaquette' is not defined"
     ]
    }
   ],
   "execution_count": 2
  }
 ],
 "metadata": {
  "kernelspec": {
   "display_name": "Python 3",
   "language": "python",
   "name": "python3"
  },
  "language_info": {
   "codemirror_mode": {
    "name": "ipython",
    "version": 2
   },
   "file_extension": ".py",
   "mimetype": "text/x-python",
   "name": "python",
   "nbconvert_exporter": "python",
   "pygments_lexer": "ipython2",
   "version": "2.7.6"
  }
 },
 "nbformat": 4,
 "nbformat_minor": 5
}
