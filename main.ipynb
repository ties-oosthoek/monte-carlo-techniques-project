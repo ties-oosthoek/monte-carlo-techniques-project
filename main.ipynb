{
 "cells": [
  {
   "metadata": {
    "ExecuteTime": {
     "end_time": "2024-12-02T11:32:36.174047Z",
     "start_time": "2024-12-02T11:32:36.163457Z"
    }
   },
   "cell_type": "code",
   "source": [
    "import numpy as np\n",
    "rng = np.random.default_rng()"
   ],
   "id": "2412ee85c982c364",
   "outputs": [],
   "execution_count": 8
  },
  {
   "cell_type": "code",
   "id": "initial_id",
   "metadata": {
    "collapsed": true,
    "ExecuteTime": {
     "end_time": "2024-12-02T12:05:35.326133Z",
     "start_time": "2024-12-02T12:05:35.306496Z"
    }
   },
   "source": [
    "def heatbath_update(U,alpha):\n",
    "    site = tuple(rng.integers(0,len(U),4))\n",
    "    theta = sample_angle(alpha)\n",
    "    U[site] = np.exp(1j*theta)\n",
    "\n",
    "def sample_angle(alpha):\n",
    "    while True:\n",
    "        Z = rng.uniform(0,1)\n",
    "        x = -1 + np.log(1 + np.exp(2*alpha - 1)*Z)\n",
    "\n",
    "        Q = np.exp(alpha*(np.cos(np.pi/2*(1-x))-x))\n",
    "        Q_max = np.exp(0.2105137*alpha)\n",
    "\n",
    "        Z_prime = rng.uniform(0,1)\n",
    "        if Q/Q_max > Z_prime:\n",
    "            angle = np.pi*(1-x)/2\n",
    "            return angle\n",
    "\n",
    "def run_heatbath(U,alpha,n):\n",
    "    for _ in range(n):\n",
    "        heatbath_update(U,alpha)"
   ],
   "outputs": [],
   "execution_count": 52
  },
  {
   "metadata": {
    "ExecuteTime": {
     "end_time": "2024-12-02T12:11:30.798438Z",
     "start_time": "2024-12-02T12:11:30.787806Z"
    }
   },
   "cell_type": "code",
   "source": [
    "width = 4\n",
    "U = np.exp(2j * np.pi * np.random.rand(width,width,width,width))"
   ],
   "id": "334cb6bcb72ecbcd",
   "outputs": [],
   "execution_count": 57
  }
 ],
 "metadata": {
  "kernelspec": {
   "display_name": "Python 3",
   "language": "python",
   "name": "python3"
  },
  "language_info": {
   "codemirror_mode": {
    "name": "ipython",
    "version": 2
   },
   "file_extension": ".py",
   "mimetype": "text/x-python",
   "name": "python",
   "nbconvert_exporter": "python",
   "pygments_lexer": "ipython2",
   "version": "2.7.6"
  }
 },
 "nbformat": 4,
 "nbformat_minor": 5
}
