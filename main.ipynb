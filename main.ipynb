{
 "cells": [
  {
   "metadata": {
    "ExecuteTime": {
     "end_time": "2024-12-02T12:42:13.230031Z",
     "start_time": "2024-12-02T12:42:13.226798Z"
    }
   },
   "cell_type": "code",
   "source": [
    "import numpy as np\n",
    "rng = np.random.default_rng()"
   ],
   "id": "2412ee85c982c364",
   "outputs": [],
   "execution_count": 51
  },
  {
   "cell_type": "code",
   "id": "initial_id",
   "metadata": {
    "collapsed": true,
    "ExecuteTime": {
     "end_time": "2024-12-02T12:58:04.492920Z",
     "start_time": "2024-12-02T12:58:04.488029Z"
    }
   },
   "source": [
    "def heatbath_update(U,beta):\n",
    "    site = tuple(rng.integers(0,len(U),4))\n",
    "    theta = sample_angle(beta)\n",
    "    U[site] = np.exp(1j*theta)\n",
    "\n",
    "def sample_angle(beta):\n",
    "    alpha = np.sqrt(2*beta)*beta\n",
    "\n",
    "    while True:\n",
    "        Z = rng.uniform(0,1)\n",
    "        x = -1 + np.log(1 + np.exp(2*alpha - 1)*Z)\n",
    "\n",
    "        Q = np.exp(alpha*(np.cos(np.pi/2*(1-x))-x))\n",
    "        Q_max = np.exp(0.2105137*alpha)\n",
    "\n",
    "        Z_prime = rng.uniform(0,1)\n",
    "        if Q/Q_max > Z_prime:\n",
    "            angle = np.pi*(1-x)/2\n",
    "            return angle\n",
    "\n",
    "def run_heatbath(U, beta, n, loop_sites_list):\n",
    "    wilson_loop_sum = 0.0\n",
    "    total_plaquettes = len(loop_sites_list)\n",
    "\n",
    "    for _ in range(n):\n",
    "        heatbath_update(U, beta)\n",
    "\n",
    "        # Sum Wilson loops for all plaquettes\n",
    "        loop_value_sum = 0.0\n",
    "        for loop_sites in loop_sites_list:\n",
    "            loop_value_sum += wilson_loop(U, loop_sites)\n",
    "\n",
    "        # Add the sum of loop values for this update\n",
    "        wilson_loop_sum += loop_value_sum\n",
    "\n",
    "    # Average Wilson loop value over all updates and all plaquettes\n",
    "    return wilson_loop_sum / (n * total_plaquettes)\n",
    "\n",
    "def create_plaquettes(width):\n",
    "    loop_sites_list = []\n",
    "    for x in range(width-1):   # Loop over the entire grid (excluding edges for plaquettes)\n",
    "        for y in range(width-1):\n",
    "            for z in range(width-1):\n",
    "                for t in range(width-1):\n",
    "                    loop_sites_list.append(create_plaquette(x, y, z, t))\n",
    "    return loop_sites_list"
   ],
   "outputs": [],
   "execution_count": 89
  },
  {
   "metadata": {
    "ExecuteTime": {
     "end_time": "2024-12-02T13:00:47.932991Z",
     "start_time": "2024-12-02T13:00:47.903357Z"
    }
   },
   "cell_type": "code",
   "source": [
    "# Lattice size\n",
    "width = 4\n",
    "U = np.exp(2j * np.pi * np.random.rand(width, width, width, width))\n",
    "n_updates = 1000\n",
    "\n",
    "beta = np.linspace(0.001, 2, 1000)\n",
    "\n",
    "# Create plaquettes for the entire grid\n",
    "loop_sites_list = create_plaquettes(width)\n",
    "\n",
    "for beta_value in beta:\n",
    "    average_wilson_loop = run_heatbath(U, beta, n_updates, loop_sites_list)\n",
    "    plt.plot(x=beta_value, y=run_heatbath(U, beta_value, n_updates, loop_sites_list))"
   ],
   "id": "334cb6bcb72ecbcd",
   "outputs": [
    {
     "ename": "ValueError",
     "evalue": "The truth value of an array with more than one element is ambiguous. Use a.any() or a.all()",
     "output_type": "error",
     "traceback": [
      "\u001B[0;31m---------------------------------------------------------------------------\u001B[0m",
      "\u001B[0;31mValueError\u001B[0m                                Traceback (most recent call last)",
      "Cell \u001B[0;32mIn[106], line 12\u001B[0m\n\u001B[1;32m      9\u001B[0m loop_sites_list \u001B[38;5;241m=\u001B[39m create_plaquettes(width)\n\u001B[1;32m     11\u001B[0m \u001B[38;5;28;01mfor\u001B[39;00m beta_value \u001B[38;5;129;01min\u001B[39;00m beta:\n\u001B[0;32m---> 12\u001B[0m     average_wilson_loop \u001B[38;5;241m=\u001B[39m \u001B[43mrun_heatbath\u001B[49m\u001B[43m(\u001B[49m\u001B[43mU\u001B[49m\u001B[43m,\u001B[49m\u001B[43m \u001B[49m\u001B[43mbeta\u001B[49m\u001B[43m,\u001B[49m\u001B[43m \u001B[49m\u001B[43mn_updates\u001B[49m\u001B[43m,\u001B[49m\u001B[43m \u001B[49m\u001B[43mloop_sites_list\u001B[49m\u001B[43m)\u001B[49m\n\u001B[1;32m     13\u001B[0m     plt\u001B[38;5;241m.\u001B[39mplot(x\u001B[38;5;241m=\u001B[39mbeta_value, y\u001B[38;5;241m=\u001B[39mrun_heatbath(U, beta_value, n_updates, loop_sites_list))\n",
      "Cell \u001B[0;32mIn[89], line 26\u001B[0m, in \u001B[0;36mrun_heatbath\u001B[0;34m(U, beta, n, loop_sites_list)\u001B[0m\n\u001B[1;32m     23\u001B[0m total_plaquettes \u001B[38;5;241m=\u001B[39m \u001B[38;5;28mlen\u001B[39m(loop_sites_list)\n\u001B[1;32m     25\u001B[0m \u001B[38;5;28;01mfor\u001B[39;00m _ \u001B[38;5;129;01min\u001B[39;00m \u001B[38;5;28mrange\u001B[39m(n):\n\u001B[0;32m---> 26\u001B[0m     \u001B[43mheatbath_update\u001B[49m\u001B[43m(\u001B[49m\u001B[43mU\u001B[49m\u001B[43m,\u001B[49m\u001B[43m \u001B[49m\u001B[43mbeta\u001B[49m\u001B[43m)\u001B[49m\n\u001B[1;32m     28\u001B[0m     \u001B[38;5;66;03m# Sum Wilson loops for all plaquettes\u001B[39;00m\n\u001B[1;32m     29\u001B[0m     loop_value_sum \u001B[38;5;241m=\u001B[39m \u001B[38;5;241m0.0\u001B[39m\n",
      "Cell \u001B[0;32mIn[89], line 3\u001B[0m, in \u001B[0;36mheatbath_update\u001B[0;34m(U, beta)\u001B[0m\n\u001B[1;32m      1\u001B[0m \u001B[38;5;28;01mdef\u001B[39;00m \u001B[38;5;21mheatbath_update\u001B[39m(U,beta):\n\u001B[1;32m      2\u001B[0m     site \u001B[38;5;241m=\u001B[39m \u001B[38;5;28mtuple\u001B[39m(rng\u001B[38;5;241m.\u001B[39mintegers(\u001B[38;5;241m0\u001B[39m,\u001B[38;5;28mlen\u001B[39m(U),\u001B[38;5;241m4\u001B[39m))\n\u001B[0;32m----> 3\u001B[0m     theta \u001B[38;5;241m=\u001B[39m \u001B[43msample_angle\u001B[49m\u001B[43m(\u001B[49m\u001B[43mbeta\u001B[49m\u001B[43m)\u001B[49m\n\u001B[1;32m      4\u001B[0m     U[site] \u001B[38;5;241m=\u001B[39m np\u001B[38;5;241m.\u001B[39mexp(\u001B[38;5;241m1\u001B[39mj\u001B[38;5;241m*\u001B[39mtheta)\n",
      "Cell \u001B[0;32mIn[89], line 17\u001B[0m, in \u001B[0;36msample_angle\u001B[0;34m(beta)\u001B[0m\n\u001B[1;32m     14\u001B[0m Q_max \u001B[38;5;241m=\u001B[39m np\u001B[38;5;241m.\u001B[39mexp(\u001B[38;5;241m0.2105137\u001B[39m\u001B[38;5;241m*\u001B[39malpha)\n\u001B[1;32m     16\u001B[0m Z_prime \u001B[38;5;241m=\u001B[39m rng\u001B[38;5;241m.\u001B[39muniform(\u001B[38;5;241m0\u001B[39m,\u001B[38;5;241m1\u001B[39m)\n\u001B[0;32m---> 17\u001B[0m \u001B[38;5;28;01mif\u001B[39;00m Q\u001B[38;5;241m/\u001B[39mQ_max \u001B[38;5;241m>\u001B[39m Z_prime:\n\u001B[1;32m     18\u001B[0m     angle \u001B[38;5;241m=\u001B[39m np\u001B[38;5;241m.\u001B[39mpi\u001B[38;5;241m*\u001B[39m(\u001B[38;5;241m1\u001B[39m\u001B[38;5;241m-\u001B[39mx)\u001B[38;5;241m/\u001B[39m\u001B[38;5;241m2\u001B[39m\n\u001B[1;32m     19\u001B[0m     \u001B[38;5;28;01mreturn\u001B[39;00m angle\n",
      "\u001B[0;31mValueError\u001B[0m: The truth value of an array with more than one element is ambiguous. Use a.any() or a.all()"
     ]
    }
   ],
   "execution_count": 106
  }
 ],
 "metadata": {
  "kernelspec": {
   "display_name": "Python 3",
   "language": "python",
   "name": "python3"
  },
  "language_info": {
   "codemirror_mode": {
    "name": "ipython",
    "version": 2
   },
   "file_extension": ".py",
   "mimetype": "text/x-python",
   "name": "python",
   "nbconvert_exporter": "python",
   "pygments_lexer": "ipython2",
   "version": "2.7.6"
  }
 },
 "nbformat": 4,
 "nbformat_minor": 5
}
