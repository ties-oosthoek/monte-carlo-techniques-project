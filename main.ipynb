{
 "cells": [
  {
   "metadata": {
    "ExecuteTime": {
     "end_time": "2024-12-02T12:36:03.816120Z",
     "start_time": "2024-12-02T12:36:03.798178Z"
    }
   },
   "cell_type": "code",
   "source": [
    "import numpy as np\n",
    "rng = np.random.default_rng()"
   ],
   "id": "2412ee85c982c364",
   "outputs": [],
   "execution_count": 70
  },
  {
   "cell_type": "code",
   "id": "initial_id",
   "metadata": {
    "collapsed": true,
    "ExecuteTime": {
     "end_time": "2024-12-02T12:36:05.294624Z",
     "start_time": "2024-12-02T12:36:05.278382Z"
    }
   },
   "source": [
    "def heatbath_update(U,beta):\n",
    "    site = tuple(rng.integers(0,len(U),4))\n",
    "    theta = sample_angle(beta)\n",
    "    U[site] = np.exp(1j*theta)\n",
    "\n",
    "def sample_angle(beta):\n",
    "    alpha = np.sqrt(2*beta)*beta\n",
    "\n",
    "    while True:\n",
    "        Z = rng.uniform(0,1)\n",
    "        x = -1 + np.log(1 + np.exp(2*alpha - 1)*Z)\n",
    "\n",
    "        Q = np.exp(alpha*(np.cos(np.pi/2*(1-x))-x))\n",
    "        Q_max = np.exp(0.2105137*alpha)\n",
    "\n",
    "        Z_prime = rng.uniform(0,1)\n",
    "        if Q/Q_max > Z_prime:\n",
    "            angle = np.pi*(1-x)/2\n",
    "            return angle\n",
    "\n",
    "def run_heatbath(U, beta, n, loop_sites):\n",
    "    wilson_loop_sum = 0.0\n",
    "    for _ in range(n):\n",
    "        heatbath_update(U, beta)\n",
    "        loop_value = wilson_loop(U, loop_sites)\n",
    "        wilson_loop_sum += loop_value\n",
    "    return wilson_loop_sum / n\n",
    "\n",
    "def create_plaquette(x0=0, y0=0, z0=0, t0=0):\n",
    "    loop_sites = [\n",
    "        (x0, y0, z0, t0, 0),\n",
    "        (x0+1, y0, z0, t0, 1),\n",
    "        (x0, y0+1, z0, t0, 2),\n",
    "        (x0, y0, z0, t0, 3),\n",
    "    ]\n",
    "    return loop_sites\n",
    "\n",
    "def wilson_loop(U, loop_sites):\n",
    "    loop_product = 1.0 + 0.0j\n",
    "    for (x, y, z, t, mu) in loop_sites:\n",
    "        loop_product *= U[(x, y, z, t)]\n",
    "    return np.real(loop_product)"
   ],
   "outputs": [],
   "execution_count": 71
  },
  {
   "metadata": {
    "ExecuteTime": {
     "end_time": "2024-12-02T12:36:37.316316Z",
     "start_time": "2024-12-02T12:36:32.344691Z"
    }
   },
   "cell_type": "code",
   "source": [
    "width = 4\n",
    "num_sites = width*width*width*width\n",
    "betas = np.linspace(0.0,2.0,21)\n",
    "equil_sweeps = 1\n",
    "measure_sweeps = 1\n",
    "measurements = 2\n",
    "\n",
    "for beta in betas:\n",
    "    U = np.exp(2j * np.pi * np.random.rand(width,width,width,width))\n",
    "    run_heatbath(U,beta,equil_sweeps*num_sites)\n",
    "\n",
    "    for _ in range(measurements):\n",
    "        run_heatbath(U,beta,measure_sweeps * num_sites)\n",
    "        # measure"
   ],
   "id": "334cb6bcb72ecbcd",
   "outputs": [],
   "execution_count": 77
  }
 ],
 "metadata": {
  "kernelspec": {
   "display_name": "Python 3",
   "language": "python",
   "name": "python3"
  },
  "language_info": {
   "codemirror_mode": {
    "name": "ipython",
    "version": 2
   },
   "file_extension": ".py",
   "mimetype": "text/x-python",
   "name": "python",
   "nbconvert_exporter": "python",
   "pygments_lexer": "ipython2",
   "version": "2.7.6"
  }
 },
 "nbformat": 4,
 "nbformat_minor": 5
}
