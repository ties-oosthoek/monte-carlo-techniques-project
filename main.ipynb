{
 "cells": [
  {
   "metadata": {
    "ExecuteTime": {
     "end_time": "2024-12-02T12:42:13.230031Z",
     "start_time": "2024-12-02T12:42:13.226798Z"
    }
   },
   "cell_type": "code",
   "source": [
    "import numpy as np\n",
    "rng = np.random.default_rng()"
   ],
   "id": "2412ee85c982c364",
   "outputs": [],
   "execution_count": 51
  },
  {
   "cell_type": "code",
   "id": "initial_id",
   "metadata": {
    "collapsed": true,
    "ExecuteTime": {
     "end_time": "2024-12-02T12:53:06.994778Z",
     "start_time": "2024-12-02T12:53:06.988861Z"
    }
   },
   "source": [
    "def heatbath_update(U,beta):\n",
    "    site = tuple(rng.integers(0,len(U),4))\n",
    "    theta = sample_angle(beta)\n",
    "    U[site] = np.exp(1j*theta)\n",
    "\n",
    "def sample_angle(beta):\n",
    "    alpha = np.sqrt(2*beta)*beta\n",
    "\n",
    "    while True:\n",
    "        Z = rng.uniform(0,1)\n",
    "        x = -1 + np.log(1 + np.exp(2*alpha - 1)*Z)\n",
    "\n",
    "        Q = np.exp(alpha*(np.cos(np.pi/2*(1-x))-x))\n",
    "        Q_max = np.exp(0.2105137*alpha)\n",
    "\n",
    "        Z_prime = rng.uniform(0,1)\n",
    "        if Q/Q_max > Z_prime:\n",
    "            angle = np.pi*(1-x)/2\n",
    "            return angle\n",
    "\n",
    "def run_heatbath(U, alpha, n, loop_sites_list):\n",
    "    wilson_loop_sum = 0.0\n",
    "    total_plaquettes = len(loop_sites_list)\n",
    "\n",
    "    for _ in range(n):\n",
    "        heatbath_update(U, alpha)\n",
    "\n",
    "        # Sum Wilson loops for all plaquettes\n",
    "        loop_value_sum = 0.0\n",
    "        for loop_sites in loop_sites_list:\n",
    "            loop_value_sum += wilson_loop(U, loop_sites)\n",
    "\n",
    "        # Add the sum of loop values for this update\n",
    "        wilson_loop_sum += loop_value_sum\n",
    "\n",
    "    # Average Wilson loop value over all updates and all plaquettes\n",
    "    return wilson_loop_sum / (n * total_plaquettes)\n",
    "\n",
    "def create_plaquettes(width):\n",
    "    loop_sites_list = []\n",
    "    for x in range(width-1):   # Loop over the entire grid (excluding edges for plaquettes)\n",
    "        for y in range(width-1):\n",
    "            for z in range(width-1):\n",
    "                for t in range(width-1):\n",
    "                    loop_sites_list.append(create_plaquette(x, y, z, t))\n",
    "    return loop_sites_list\n",
    "\n",
    "def wilson_loop(U, loop_sites):\n",
    "    loop_product = 1.0 + 0.0j\n",
    "    for (x, y, z, t, mu) in loop_sites:\n",
    "        loop_product *= U[(x, y, z, t)]\n",
    "    return np.real(loop_product)"
   ],
   "outputs": [],
   "execution_count": 54
  },
  {
   "metadata": {
    "ExecuteTime": {
     "end_time": "2024-12-02T12:53:20.693753Z",
     "start_time": "2024-12-02T12:53:20.527003Z"
    }
   },
   "cell_type": "code",
   "source": [
    "# Lattice size\n",
    "width = 4\n",
    "U = np.exp(2j * np.pi * np.random.rand(width, width, width, width))\n",
    "alpha = 1.0\n",
    "n_updates = 1000\n",
    "\n",
    "# Create plaquettes for the entire grid\n",
    "loop_sites_list = create_plaquettes(width)\n",
    "\n",
    "# Run the heatbath update and compute the average Wilson loop over the whole grid\n",
    "average_wilson_loop = run_heatbath(U, alpha, n_updates, loop_sites_list)\n",
    "print(f\"Average Wilson Loop for the entire heatbath: {average_wilson_loop}\")"
   ],
   "id": "334cb6bcb72ecbcd",
   "outputs": [
    {
     "name": "stdout",
     "output_type": "stream",
     "text": [
      "Average Wilson Loop for the entire heatbath: -0.08524628805463488\n"
     ]
    }
   ],
   "execution_count": 67
  }
 ],
 "metadata": {
  "kernelspec": {
   "display_name": "Python 3",
   "language": "python",
   "name": "python3"
  },
  "language_info": {
   "codemirror_mode": {
    "name": "ipython",
    "version": 2
   },
   "file_extension": ".py",
   "mimetype": "text/x-python",
   "name": "python",
   "nbconvert_exporter": "python",
   "pygments_lexer": "ipython2",
   "version": "2.7.6"
  }
 },
 "nbformat": 4,
 "nbformat_minor": 5
}
