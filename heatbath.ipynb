{
 "cells": [
  {
   "metadata": {
    "ExecuteTime": {
     "end_time": "2024-12-02T12:59:39.827853Z",
     "start_time": "2024-12-02T12:59:39.814291Z"
    }
   },
   "cell_type": "code",
   "source": [
    "import numpy as np\n",
    "rng = np.random.default_rng()"
   ],
   "id": "b23f7bef45ef64d6",
   "outputs": [],
   "execution_count": 4
  },
  {
   "cell_type": "code",
   "id": "initial_id",
   "metadata": {
    "collapsed": true,
    "ExecuteTime": {
     "end_time": "2024-12-02T12:59:39.873923Z",
     "start_time": "2024-12-02T12:59:39.849893Z"
    }
   },
   "source": [
    "def heatbath_update(U,beta):\n",
    "    site = tuple(rng.integers(0,len(U),4))\n",
    "    theta = sample_angle(beta)\n",
    "    U[site] = np.exp(1j*theta)\n",
    "\n",
    "def sample_angle(beta):\n",
    "    alpha = np.sqrt(2*beta)*beta\n",
    "\n",
    "    while True:\n",
    "        Z = rng.uniform(0,1)\n",
    "        x = -1 + np.log(1 + np.exp(2*alpha - 1)*Z)\n",
    "\n",
    "        Q = np.exp(alpha*(np.cos(np.pi/2*(1-x))-x))\n",
    "        Q_max = np.exp(0.2105137*alpha)\n",
    "\n",
    "        Z_prime = rng.uniform(0,1)\n",
    "        if Q/Q_max > Z_prime:\n",
    "            angle = np.pi*(1-x)/2\n",
    "            return angle\n",
    "\n",
    "def run_heatbath(U,beta,n):\n",
    "    for _ in range(n):\n",
    "        heatbath_update(U,beta)"
   ],
   "outputs": [],
   "execution_count": 5
  },
  {
   "metadata": {
    "ExecuteTime": {
     "end_time": "2024-12-02T12:59:43.941371Z",
     "start_time": "2024-12-02T12:59:39.908522Z"
    }
   },
   "cell_type": "code",
   "source": [
    "width = 4\n",
    "num_sites = width*width*width*width\n",
    "betas = np.linspace(0.0,2.0,21)\n",
    "equil_sweeps = 1\n",
    "measure_sweeps = 1\n",
    "measurements = 2\n",
    "\n",
    "for beta in betas:\n",
    "    U = np.exp(2j * np.pi * np.random.rand(width,width,width,width))\n",
    "    run_heatbath(U,beta,equil_sweeps*num_sites)\n",
    "\n",
    "    for _ in range(measurements):\n",
    "        run_heatbath(U,beta,measure_sweeps * num_sites)\n",
    "        # measure"
   ],
   "id": "b6788d64ac1dd32b",
   "outputs": [],
   "execution_count": 6
  }
 ],
 "metadata": {
  "kernelspec": {
   "display_name": "Python 3",
   "language": "python",
   "name": "python3"
  },
  "language_info": {
   "codemirror_mode": {
    "name": "ipython",
    "version": 2
   },
   "file_extension": ".py",
   "mimetype": "text/x-python",
   "name": "python",
   "nbconvert_exporter": "python",
   "pygments_lexer": "ipython2",
   "version": "2.7.6"
  }
 },
 "nbformat": 4,
 "nbformat_minor": 5
}
