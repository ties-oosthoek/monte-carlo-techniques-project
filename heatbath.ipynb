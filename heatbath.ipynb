{
 "cells": [
  {
   "metadata": {
    "ExecuteTime": {
     "end_time": "2024-12-16T10:54:16.141958Z",
     "start_time": "2024-12-16T10:54:16.134196Z"
    }
   },
   "cell_type": "code",
   "source": [
    "import numpy as np\n",
    "import matplotlib.pyplot as plt\n",
    "import h5py\n",
    "\n",
    "rng = np.random.default_rng()"
   ],
   "id": "b23f7bef45ef64d6",
   "outputs": [],
   "execution_count": 71
  },
  {
   "metadata": {
    "ExecuteTime": {
     "end_time": "2024-12-16T10:54:16.204535Z",
     "start_time": "2024-12-16T10:54:16.191938Z"
    }
   },
   "cell_type": "code",
   "source": [
    "def ordered_state(width):\n",
    "    return np.exp(2j * np.pi * np.zeros((width,width,width,width,4)))\n",
    "\n",
    "def disordered_state(width):\n",
    "    return np.exp(2j * np.pi * np.random.rand(width,width,width,width,4))"
   ],
   "id": "b89feed89cd8c772",
   "outputs": [],
   "execution_count": 72
  },
  {
   "cell_type": "code",
   "id": "initial_id",
   "metadata": {
    "collapsed": true,
    "ExecuteTime": {
     "end_time": "2024-12-16T10:54:16.251063Z",
     "start_time": "2024-12-16T10:54:16.225863Z"
    }
   },
   "source": [
    "def run_lattice_heatbath(state,beta,n):\n",
    "    \"\"\"Perform n heatbath updates on the lattice state.\"\"\"\n",
    "    for _ in range(n):\n",
    "        lattice_heatbath_update(state,beta)\n",
    "\n",
    "def lattice_heatbath_update(state,beta):\n",
    "    \"\"\"Perform a heatbath update on a random link in the lattice state.\"\"\"\n",
    "    width = len(state)\n",
    "    link_index = random_link_index(width)\n",
    "    state[link_index] = sample_link_variable(state,beta,link_index)\n",
    "\n",
    "def random_link_index(width):\n",
    "    \"\"\"Return a random link index (n_x,n_y,n_z,kappa).\"\"\"\n",
    "    return tuple(rng.integers(0,[width,width,width,width,4]))\n",
    "\n",
    "def sample_link_variable(state,beta,link_index):\n",
    "    \"\"\"Sample link variable U = exp(i*theta).\"\"\"\n",
    "    link_variable_sum = relevant_link_variable_sum(state,link_index)\n",
    "    alpha = beta*np.real(link_variable_sum)\n",
    "    phi = np.angle(link_variable_sum)\n",
    "    while True:\n",
    "        Z = rng.uniform(0,1)\n",
    "        x = -1 + np.log(1 + (np.exp(2*alpha) - 1)*Z)/alpha\n",
    "\n",
    "        Q = np.exp(alpha*(np.cos(np.pi/2*(1-x))-x))\n",
    "        Q_max = np.exp(0.2105137*alpha)\n",
    "\n",
    "        Z_prime = rng.uniform(0,1)\n",
    "        if Q/Q_max > Z_prime:\n",
    "            theta = np.pi*(1-x)/2 - phi\n",
    "            return np.exp(1j*theta)\n",
    "\n",
    "def relevant_link_variable_sum(state,link_index):\n",
    "    \"\"\"Return the sum of the link variables present in the plaquettes containing the relevant link,\n",
    "    without the contribution of the link itself.\"\"\"\n",
    "    width = len(state)\n",
    "    n = np.array(link_index[:4])\n",
    "    kappa = link_index[-1]\n",
    "    kappa_hat = np.array(get_unit_vector(kappa))\n",
    "\n",
    "    link_variable_sum = 0\n",
    "    for nu in range(4):\n",
    "        if nu != kappa:\n",
    "            nu_hat = get_unit_vector(nu)\n",
    "            contribution = state[get_lattice_vector(n+kappa_hat,width)][nu]\n",
    "            contribution *= state[get_lattice_vector(n+nu_hat,width)][kappa]\n",
    "            contribution *= state[get_lattice_vector(n,width)][nu]\n",
    "            link_variable_sum += contribution\n",
    "\n",
    "    return link_variable_sum\n",
    "\n",
    "def get_unit_vector(index):\n",
    "    \"\"\"Return the unit vector from the dimension index.\"\"\"\n",
    "    vector = np.zeros(4).astype(int)\n",
    "    vector[index] = 1\n",
    "    return vector\n",
    "\n",
    "def get_lattice_vector(vector,width):\n",
    "    \"\"\"Get the lattice vector periodic with the lattice size.\"\"\"\n",
    "    return tuple(map(lambda i: i % width, vector))"
   ],
   "outputs": [],
   "execution_count": 73
  },
  {
   "metadata": {
    "ExecuteTime": {
     "end_time": "2024-12-16T10:54:16.298146Z",
     "start_time": "2024-12-16T10:54:16.270938Z"
    }
   },
   "cell_type": "code",
   "source": [
    "def average_plaquette_action(state):\n",
    "    \"\"\"Compute action of the lattice state.\"\"\"\n",
    "    width = len(state)\n",
    "\n",
    "    action = 0\n",
    "    for n in lattice_vertices(width):\n",
    "        for mu in range(4):\n",
    "            for nu in range(4):\n",
    "                if mu < nu:\n",
    "                    mu_hat, nu_hat = get_unit_vector(mu), get_unit_vector(nu)\n",
    "                    contribution = state[get_lattice_vector(n,width)][mu]\n",
    "                    contribution *= state[get_lattice_vector(n+mu_hat,width)][nu]\n",
    "                    contribution *= state[get_lattice_vector(n+nu_hat,width)][mu]\n",
    "                    contribution *= state[get_lattice_vector(n,width)][nu]\n",
    "                    action += (1 - np.real(contribution))\n",
    "\n",
    "    num_plaquettes = width*width*width*width*6\n",
    "    return action / num_plaquettes\n",
    "\n",
    "def lattice_vertices(width):\n",
    "    \"\"\"Compute the vertices of the lattice with given width.\"\"\"\n",
    "    vertices = []\n",
    "    for n_x in range(width):\n",
    "        for n_y in range(width):\n",
    "            for n_z in range(width):\n",
    "                for n_t in range(width):\n",
    "                    vertex = (n_x,n_y,n_z,n_t)\n",
    "                    vertices.append(vertex)\n",
    "    return vertices"
   ],
   "id": "e80760e03c18b476",
   "outputs": [],
   "execution_count": 74
  },
  {
   "metadata": {
    "ExecuteTime": {
     "end_time": "2024-12-16T10:54:16.344618Z",
     "start_time": "2024-12-16T10:54:16.330620Z"
    }
   },
   "cell_type": "code",
   "source": [
    "def run_simulation(state,beta,k,n,measurements):\n",
    "    \"\"\"Run the simulation with k equilibration sweeps and n measurement sweeps.\n",
    "    Returns the action measurement results.\"\"\"\n",
    "    width = len(state)\n",
    "    num_links = width*width*width*width*4\n",
    "\n",
    "    # equilibrate\n",
    "    run_lattice_heatbath(state,beta,k*num_links)\n",
    "\n",
    "    # measure\n",
    "    results = np.empty(measurements)\n",
    "    for i in range(measurements):\n",
    "        run_lattice_heatbath(state,beta,n*num_links)\n",
    "        results[i] = average_plaquette_action(state)\n",
    "        print(f\"Running... ({i+1} / {measurements})\")\n",
    "\n",
    "    print(\"Completed run\")\n",
    "    return results"
   ],
   "id": "73798f7f6ee1dc17",
   "outputs": [],
   "execution_count": 75
  },
  {
   "metadata": {
    "ExecuteTime": {
     "end_time": "2024-12-16T10:54:16.376623Z",
     "start_time": "2024-12-16T10:54:16.353620Z"
    }
   },
   "cell_type": "code",
   "source": [
    "def try_gather_data_and_plot(state,beta,k,n,measurements):\n",
    "    try_gather_data(state,beta,k,n,measurements)\n",
    "    try_plot_data(beta,measurements)\n",
    "\n",
    "def try_gather_data(state,beta,k,n,measurements):\n",
    "    with h5py.File('lattice.hdf5','a') as f:\n",
    "        if not f\"beta{np.round(beta,decimals=2)}-average-action-per-iterations\" in f:\n",
    "            actions = run_simulation(state,beta,k,n,measurements)\n",
    "            f.create_dataset(f\"beta{np.round(beta,decimals=2)}-average-action-per-iterations\",data=actions)\n",
    "\n",
    "def try_plot_data(beta,measurements):\n",
    "    with h5py.File('lattice.hdf5','r') as f:\n",
    "        average_plaquette_actions = f[f\"beta{np.round(beta,decimals=2)}-average-action-per-iterations\"][()]\n",
    "\n",
    "        plt.scatter(np.linspace(1,measurements,measurements),average_plaquette_actions)\n",
    "        plt.xlabel(\"iterations\")\n",
    "        plt.ylabel(\"average action per plaquette\")\n",
    "\n",
    "        plt.plot(np.linspace(1,measurements,measurements),[np.mean(average_plaquette_actions) for _ in range(measurements)],color=\"orange\")\n",
    "\n",
    "        print(f\"Mean: {np.mean(average_plaquette_actions)}\")"
   ],
   "id": "1cdca7384592e091",
   "outputs": [],
   "execution_count": 76
  },
  {
   "metadata": {
    "ExecuteTime": {
     "end_time": "2024-12-16T10:54:50.102149Z",
     "start_time": "2024-12-16T10:54:37.649559Z"
    }
   },
   "cell_type": "code",
   "source": "try_gather_data_and_plot(state=ordered_state(width=4),beta=0.55,k=0,n=1,measurements=400)",
   "id": "540afef156f7e307",
   "outputs": [
    {
     "name": "stdout",
     "output_type": "stream",
     "text": [
      "Running... (1 / 100)\n",
      "Running... (2 / 100)\n",
      "Running... (3 / 100)\n",
      "Running... (4 / 100)\n",
      "Running... (5 / 100)\n",
      "Running... (6 / 100)\n",
      "Running... (7 / 100)\n",
      "Running... (8 / 100)\n",
      "Running... (9 / 100)\n",
      "Running... (10 / 100)\n",
      "Running... (11 / 100)\n",
      "Running... (12 / 100)\n",
      "Running... (13 / 100)\n",
      "Running... (14 / 100)\n",
      "Running... (15 / 100)\n",
      "Running... (16 / 100)\n",
      "Running... (17 / 100)\n",
      "Running... (18 / 100)\n",
      "Running... (19 / 100)\n",
      "Running... (20 / 100)\n",
      "Running... (21 / 100)\n",
      "Running... (22 / 100)\n",
      "Running... (23 / 100)\n",
      "Running... (24 / 100)\n",
      "Running... (25 / 100)\n",
      "Running... (26 / 100)\n",
      "Running... (27 / 100)\n",
      "Running... (28 / 100)\n",
      "Running... (29 / 100)\n",
      "Running... (30 / 100)\n",
      "Running... (31 / 100)\n",
      "Running... (32 / 100)\n",
      "Running... (33 / 100)\n",
      "Running... (34 / 100)\n",
      "Running... (35 / 100)\n",
      "Running... (36 / 100)\n",
      "Running... (37 / 100)\n",
      "Running... (38 / 100)\n",
      "Running... (39 / 100)\n",
      "Running... (40 / 100)\n",
      "Running... (41 / 100)\n",
      "Running... (42 / 100)\n",
      "Running... (43 / 100)\n",
      "Running... (44 / 100)\n",
      "Running... (45 / 100)\n",
      "Running... (46 / 100)\n",
      "Running... (47 / 100)\n",
      "Running... (48 / 100)\n",
      "Running... (49 / 100)\n",
      "Running... (50 / 100)\n",
      "Running... (51 / 100)\n",
      "Running... (52 / 100)\n",
      "Running... (53 / 100)\n",
      "Running... (54 / 100)\n",
      "Running... (55 / 100)\n",
      "Running... (56 / 100)\n",
      "Running... (57 / 100)\n",
      "Running... (58 / 100)\n",
      "Running... (59 / 100)\n",
      "Running... (60 / 100)\n",
      "Running... (61 / 100)\n",
      "Running... (62 / 100)\n",
      "Running... (63 / 100)\n",
      "Running... (64 / 100)\n",
      "Running... (65 / 100)\n",
      "Running... (66 / 100)\n",
      "Running... (67 / 100)\n",
      "Running... (68 / 100)\n",
      "Running... (69 / 100)\n",
      "Running... (70 / 100)\n",
      "Running... (71 / 100)\n",
      "Running... (72 / 100)\n",
      "Running... (73 / 100)\n",
      "Running... (74 / 100)\n",
      "Running... (75 / 100)\n",
      "Running... (76 / 100)\n",
      "Running... (77 / 100)\n",
      "Running... (78 / 100)\n",
      "Running... (79 / 100)\n",
      "Running... (80 / 100)\n",
      "Running... (81 / 100)\n",
      "Running... (82 / 100)\n",
      "Running... (83 / 100)\n",
      "Running... (84 / 100)\n",
      "Running... (85 / 100)\n",
      "Running... (86 / 100)\n",
      "Running... (87 / 100)\n",
      "Running... (88 / 100)\n",
      "Running... (89 / 100)\n",
      "Running... (90 / 100)\n",
      "Running... (91 / 100)\n",
      "Running... (92 / 100)\n",
      "Running... (93 / 100)\n",
      "Running... (94 / 100)\n",
      "Running... (95 / 100)\n",
      "Running... (96 / 100)\n",
      "Running... (97 / 100)\n",
      "Running... (98 / 100)\n",
      "Running... (99 / 100)\n",
      "Running... (100 / 100)\n",
      "Completed run\n",
      "Mean: 0.907297248627196\n"
     ]
    },
    {
     "data": {
      "text/plain": [
       "<Figure size 640x480 with 1 Axes>"
      ],
      "image/png": "[encoded data removed]"
     },
     "metadata": {},
     "output_type": "display_data"
    }
   ],
   "execution_count": 78
  }
 ],
 "metadata": {
  "kernelspec": {
   "display_name": "Python 3",
   "language": "python",
   "name": "python3"
  },
  "language_info": {
   "codemirror_mode": {
    "name": "ipython",
    "version": 2
   },
   "file_extension": ".py",
   "mimetype": "text/x-python",
   "name": "python",
   "nbconvert_exporter": "python",
   "pygments_lexer": "ipython2",
   "version": "2.7.6"
  }
 },
 "nbformat": 4,
 "nbformat_minor": 5
}
