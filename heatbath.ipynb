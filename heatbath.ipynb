{
 "cells": [
  {
   "metadata": {
    "ExecuteTime": {
     "end_time": "2024-12-03T09:45:02.528514Z",
     "start_time": "2024-12-03T09:45:02.254187Z"
    }
   },
   "cell_type": "code",
   "source": [
    "import numpy as np\n",
    "rng = np.random.default_rng()"
   ],
   "id": "b23f7bef45ef64d6",
   "outputs": [],
   "execution_count": 2
  },
  {
   "cell_type": "code",
   "id": "initial_id",
   "metadata": {
    "collapsed": true,
    "ExecuteTime": {
     "end_time": "2024-12-03T09:45:02.637633Z",
     "start_time": "2024-12-03T09:45:02.608575Z"
    }
   },
   "source": [
    "def run_lattice_heatbath(U_state,beta,n):\n",
    "    \"\"\"Perform n heatbath updates on the lattice state U_state.\"\"\"\n",
    "    for _ in range(n):\n",
    "        lattice_heatbath_update(U_state,beta)\n",
    "\n",
    "def lattice_heatbath_update(U_state,beta):\n",
    "    \"\"\"Perform a random heatbath update on the lattice state U_state.\"\"\"\n",
    "    site = tuple(rng.integers(0,len(U_state),4))\n",
    "    theta = sample_link_variable_angle(beta)\n",
    "    U_state[site] = np.exp(1j*theta)\n",
    "\n",
    "def sample_link_variable_angle(beta):\n",
    "    \"\"\"Sample angle theta defined via link variable angle U = exp(i*theta).\"\"\"\n",
    "    alpha = np.sqrt(2*beta)*beta\n",
    "    while True:\n",
    "        Z = rng.uniform(0,1)\n",
    "        x = -1 + np.log(1 + np.exp(2*alpha - 1)*Z)\n",
    "\n",
    "        Q = np.exp(alpha*(np.cos(np.pi/2*(1-x))-x))\n",
    "        Q_max = np.exp(0.2105137*alpha)\n",
    "\n",
    "        Z_prime = rng.uniform(0,1)\n",
    "        if Q/Q_max > Z_prime:\n",
    "            angle = np.pi*(1-x)/2\n",
    "            return angle\n",
    "\n",
    "def lattice_action(U_state):\n",
    "    \"\"\"Compute action of the lattice state U_state.\"\"\"\n",
    "    action = 0\n",
    "    plaquettes = unique_unoriented_plaquettes(len(U_state))\n",
    "    for plaquette in plaquettes:\n",
    "        action += 1 - np.real(plaquette_product(U_state,plaquette))\n",
    "    return action\n",
    "\n",
    "def plaquette_product(U_state,plaquette):\n",
    "    \"\"\"Compute the product of link variables around an elementary plaquette.\"\"\"\n",
    "    site_1, site_2, site_3, site_4 = plaquette\n",
    "    U_12 = np.dot(U_state[site_1], U_state[site_2])\n",
    "    U_23 = np.dot(U_state[site_2], U_state[site_3])\n",
    "    U_34 = np.dot(U_state[site_3], U_state[site_4])\n",
    "    U_41 = np.dot(U_state[site_4], U_state[site_1])\n",
    "    return U_12*U_23*U_34*U_41\n",
    "\n",
    "def unique_unoriented_plaquettes(width):\n",
    "    \"\"\"Compute all the unique unoriented plaquettes for a 4D lattice,\n",
    "    which is done by computing all possible plaquettes, sorting them,\n",
    "    and only keeping unique ones.\"\"\"\n",
    "    plaquettes = []\n",
    "    for n_x in range(width-1):\n",
    "        for n_y in range(width-1):\n",
    "            for n_z in range(width-1):\n",
    "                for n_t in range(width-1):\n",
    "                    plaquette = [\n",
    "                        (n_x,n_y,n_z,n_t),\n",
    "                        (n_x+1,n_y,n_z,n_t),\n",
    "                        (n_x+1,n_y+1,n_z,n_t),\n",
    "                        (n_x,n_y+1,n_z,n_t),\n",
    "                    ]\n",
    "                    sorted_plaquette = tuple(sorted(plaquette))\n",
    "                    if sorted_plaquette not in plaquettes:\n",
    "                        plaquettes.append(sorted_plaquette)\n",
    "    return plaquettes"
   ],
   "outputs": [],
   "execution_count": 3
  },
  {
   "metadata": {
    "ExecuteTime": {
     "end_time": "2024-12-03T10:06:30.829806Z",
     "start_time": "2024-12-03T10:00:08.074609Z"
    }
   },
   "cell_type": "code",
   "source": [
    "width = 4\n",
    "num_sites = width*width*width*width\n",
    "betas = np.linspace(0.0,2.0,21)\n",
    "equil_sweeps = 100\n",
    "measure_sweeps = 1\n",
    "measurements = 100\n",
    "\n",
    "actions = []\n",
    "for beta in betas:\n",
    "    U_state = np.exp(2j * np.pi * np.random.rand(width,width,width,width))\n",
    "\n",
    "    # equilibrate\n",
    "    run_lattice_heatbath(U_state,beta,equil_sweeps*num_sites)\n",
    "\n",
    "    # measure\n",
    "    action_measurements = []\n",
    "    for _ in range(measurements):\n",
    "        run_lattice_heatbath(U_state,beta,measure_sweeps*num_sites)\n",
    "        action_measurements.append(lattice_action(U_state))\n",
    "\n",
    "    actions.append(np.mean(action_measurements)/np.size(unique_unoriented_plaquettes(width)))"
   ],
   "id": "b6788d64ac1dd32b",
   "outputs": [],
   "execution_count": 7
  },
  {
   "metadata": {
    "ExecuteTime": {
     "end_time": "2024-12-03T10:06:35.372960Z",
     "start_time": "2024-12-03T10:06:35.128607Z"
    }
   },
   "cell_type": "code",
   "source": [
    "import matplotlib.pyplot as plt\n",
    "plt.plot(betas,actions)"
   ],
   "id": "7eb301c19acba0c6",
   "outputs": [
    {
     "data": {
      "text/plain": [
       "[<matplotlib.lines.Line2D at 0x2492c43c6a0>]"
      ]
     },
     "execution_count": 8,
     "metadata": {},
     "output_type": "execute_result"
    },
    {
     "data": {
      "text/plain": [
       "<Figure size 640x480 with 1 Axes>"
      ],
      "image/png": "[encoded data removed]"
     },
     "metadata": {},
     "output_type": "display_data"
    }
   ],
   "execution_count": 8
  }
 ],
 "metadata": {
  "kernelspec": {
   "display_name": "Python 3",
   "language": "python",
   "name": "python3"
  },
  "language_info": {
   "codemirror_mode": {
    "name": "ipython",
    "version": 2
   },
   "file_extension": ".py",
   "mimetype": "text/x-python",
   "name": "python",
   "nbconvert_exporter": "python",
   "pygments_lexer": "ipython2",
   "version": "2.7.6"
  }
 },
 "nbformat": 4,
 "nbformat_minor": 5
}
