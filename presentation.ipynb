{
 "cells": [
  {
   "cell_type": "code",
   "id": "initial_id",
   "metadata": {
    "collapsed": true,
    "ExecuteTime": {
     "end_time": "2024-12-17T13:38:10.211325Z",
     "start_time": "2024-12-17T13:38:09.517022Z"
    }
   },
   "source": [
    "import numpy as np\n",
    "import matplotlib.pyplot as plt\n",
    "import h5py\n",
    "rng = np.random.default_rng()"
   ],
   "outputs": [],
   "execution_count": 1
  },
  {
   "metadata": {
    "ExecuteTime": {
     "end_time": "2024-12-17T13:38:10.554996Z",
     "start_time": "2024-12-17T13:38:10.511497Z"
    }
   },
   "cell_type": "code",
   "source": [
    "def ordered_state(width):\n",
    "    return np.exp(2j * np.pi * np.zeros((width,width,width,width,4)))\n",
    "\n",
    "def disordered_state(width):\n",
    "    return np.exp(2j * np.pi * np.random.rand(width,width,width,width,4))\n",
    "\n",
    "def run_lattice_heatbath(state,beta,n):\n",
    "    \"\"\"Perform n heatbath updates on the lattice state.\"\"\"\n",
    "    for _ in range(n):\n",
    "        lattice_heatbath_update(state,beta)\n",
    "\n",
    "def lattice_heatbath_update(state,beta):\n",
    "    \"\"\"Perform a heatbath update on a random link in the lattice state.\"\"\"\n",
    "    width = len(state)\n",
    "    link_index = random_link_index(width)\n",
    "    state[link_index] = sample_link_variable(state,beta,link_index)\n",
    "\n",
    "def random_link_index(width):\n",
    "    \"\"\"Return a random link index (n_x,n_y,n_z,kappa).\"\"\"\n",
    "    return tuple(rng.integers(0,[width,width,width,width,4]))\n",
    "\n",
    "def sample_link_variable(state,beta,link_index):\n",
    "    \"\"\"Sample link variable U = exp(i*theta).\"\"\"\n",
    "    link_variable_sum = relevant_link_variable_sum(state,link_index)\n",
    "    alpha = beta*np.real(link_variable_sum)\n",
    "    phi = np.angle(link_variable_sum)\n",
    "    while True:\n",
    "        Z = rng.uniform(0,1)\n",
    "        x = -1 + np.log(1 + (np.exp(2*alpha) - 1)*Z)/alpha\n",
    "\n",
    "        Q = np.exp(alpha*(np.cos(np.pi/2*(1-x))-x))\n",
    "        Q_max = np.exp(0.2105137*alpha)\n",
    "\n",
    "        Z_prime = rng.uniform(0,1)\n",
    "        if Q/Q_max > Z_prime:\n",
    "            theta = np.pi*(1-x)/2 - phi\n",
    "            return np.exp(1j*theta)\n",
    "\n",
    "def relevant_link_variable_sum(state,link_index):\n",
    "    \"\"\"Return the sum of the link variables present in the plaquettes containing the relevant link,\n",
    "    without the contribution of the link itself.\"\"\"\n",
    "    width = len(state)\n",
    "    n = np.array(link_index[:4])\n",
    "    kappa = link_index[-1]\n",
    "    kappa_hat = np.array(get_unit_vector(kappa))\n",
    "\n",
    "    link_variable_sum = 0\n",
    "    for nu in range(4):\n",
    "        if nu != kappa:\n",
    "            nu_hat = get_unit_vector(nu)\n",
    "            contribution = state[get_lattice_vector(n+kappa_hat,width)][nu]\n",
    "            contribution *= state[get_lattice_vector(n+nu_hat,width)][kappa]\n",
    "            contribution *= state[get_lattice_vector(n,width)][nu]\n",
    "            link_variable_sum += contribution\n",
    "\n",
    "    return link_variable_sum\n",
    "\n",
    "def get_unit_vector(index):\n",
    "    \"\"\"Return the unit vector from the dimension index.\"\"\"\n",
    "    vector = np.zeros(4).astype(int)\n",
    "    vector[index] = 1\n",
    "    return vector\n",
    "\n",
    "def get_lattice_vector(vector,width):\n",
    "    \"\"\"Get the lattice vector periodic with the lattice size.\"\"\"\n",
    "    return tuple(map(lambda i: i % width, vector))\n",
    "\n",
    "def average_plaquette_action(state):\n",
    "    \"\"\"Compute action of the lattice state.\"\"\"\n",
    "    width = len(state)\n",
    "\n",
    "    action = 0\n",
    "    for n in lattice_vertices(width):\n",
    "        for mu in range(4):\n",
    "            for nu in range(4):\n",
    "                if mu < nu:\n",
    "                    mu_hat, nu_hat = get_unit_vector(mu), get_unit_vector(nu)\n",
    "                    contribution = state[get_lattice_vector(n,width)][mu]\n",
    "                    contribution *= state[get_lattice_vector(n+mu_hat,width)][nu]\n",
    "                    contribution *= state[get_lattice_vector(n+nu_hat,width)][mu]\n",
    "                    contribution *= state[get_lattice_vector(n,width)][nu]\n",
    "                    action += (1 - np.real(contribution))\n",
    "\n",
    "    num_plaquettes = width*width*width*width*6\n",
    "    return action / num_plaquettes\n",
    "\n",
    "def lattice_vertices(width):\n",
    "    \"\"\"Compute the vertices of the lattice with given width.\"\"\"\n",
    "    vertices = []\n",
    "    for n_x in range(width):\n",
    "        for n_y in range(width):\n",
    "            for n_z in range(width):\n",
    "                for n_t in range(width):\n",
    "                    vertex = (n_x,n_y,n_z,n_t)\n",
    "                    vertices.append(vertex)\n",
    "    return vertices\n",
    "\n",
    "def run_simulation(state,beta,k,n,measurements):\n",
    "    \"\"\"Run the simulation with k equilibration sweeps and n measurement sweeps.\n",
    "    Returns the action measurement results.\"\"\"\n",
    "    width = len(state)\n",
    "    num_links = width*width*width*width*4\n",
    "\n",
    "    # equilibrate\n",
    "    run_lattice_heatbath(state,beta,k*num_links)\n",
    "\n",
    "    # measure\n",
    "    results = np.empty(measurements)\n",
    "    for i in range(measurements):\n",
    "        run_lattice_heatbath(state,beta,n*num_links)\n",
    "        results[i] = average_plaquette_action(state)\n",
    "        print(f\"Running... ({i+1} / {measurements})\")\n",
    "\n",
    "    print(\"Completed run\")\n",
    "    return results\n",
    "\n",
    "def try_gather_data_and_plot(state,beta,k,n,measurements):\n",
    "    try_gather_data(state,beta,k,n,measurements)\n",
    "    try_plot_data(len(state),beta,measurements)\n",
    "\n",
    "def try_gather_data(state,beta,k,n,measurements):\n",
    "    with h5py.File('lattice.hdf5','a') as f:\n",
    "        width = len(state)\n",
    "        if not f\"actions_w{width}_b{np.round(beta,decimals=2)}\" in f:\n",
    "            actions = run_simulation(state,beta,k,n,measurements)\n",
    "            f.create_dataset(f\"actions_w{width}_b{np.round(beta,decimals=2)}\",data=actions)\n",
    "\n",
    "def try_plot_data(width,beta,measurements):\n",
    "    with h5py.File('lattice.hdf5','r') as f:\n",
    "        average_plaquette_actions = f[f\"actions_w{width}_b{np.round(beta,decimals=2)}\"][()]\n",
    "\n",
    "        plt.scatter(np.linspace(1,measurements,measurements),average_plaquette_actions)\n",
    "        plt.xlabel(\"iterations\")\n",
    "        plt.ylabel(\"average action per plaquette\")\n",
    "\n",
    "        plt.plot(np.linspace(1,measurements,measurements),[np.mean(average_plaquette_actions) for _ in range(measurements)],color=\"orange\")\n",
    "\n",
    "        print(f\"Mean: {np.mean(average_plaquette_actions)}\")"
   ],
   "id": "f81791352d1ae8c",
   "outputs": [],
   "execution_count": 2
  },
  {
   "metadata": {
    "ExecuteTime": {
     "end_time": "2024-12-17T13:38:10.570877Z",
     "start_time": "2024-12-17T13:38:10.561879Z"
    }
   },
   "cell_type": "code",
   "source": [
    "# Tijmen\n",
    "\n",
    "beta_values = np.arange(0.5, 3, 0.1)\n",
    "\n",
    "for beta_value in beta_values:\n",
    "    try_gather_data_and_plot(state=ordered_state(width=5),beta=beta_value,k=0,n=1,measurements=6000)"
   ],
   "id": "349efe3cba3a1655",
   "outputs": [],
   "execution_count": 3
  },
  {
   "metadata": {
    "ExecuteTime": {
     "end_time": "2024-12-17T13:38:10.601998Z",
     "start_time": "2024-12-17T13:38:10.588001Z"
    }
   },
   "cell_type": "code",
   "source": [
    "# # Ties\n",
    "\n",
    "beta_values = np.arange(3, 6, 0.1)\n",
    "\n",
    "for beta_value in beta_values:\n",
    "    try_gather_data_and_plot(state=ordered_state(width=5),beta=beta_value,k=0,n=1,measurements=6000)"
   ],
   "id": "c1a55bb476557292",
   "outputs": [],
   "execution_count": 4
  },
  {
   "metadata": {
    "ExecuteTime": {
     "end_time": "2024-12-17T13:40:45.288839Z",
     "start_time": "2024-12-17T13:40:45.114040Z"
    }
   },
   "cell_type": "code",
   "source": [
    "mean_actions = []\n",
    "\n",
    "beta1s = np.arange(0.5, 3, 0.1)\n",
    "with h5py.File('data/presentation1.hdf5','r') as f:\n",
    "    for beta1 in beta1s:\n",
    "        actions = f[f\"actions_w4_b{np.round(beta1,decimals=2)}\"][()]\n",
    "        mean_actions.append(np.mean(actions))\n",
    "\n",
    "beta2s = np.arange(3.1, 6, 0.1)\n",
    "with h5py.File('data/presentation2.hdf5','r') as f:\n",
    "    for beta2 in beta2s:\n",
    "        actions = f[f\"actions_w4_b{np.round(beta2,decimals=2)}\"][()]\n",
    "        mean_actions.append(np.mean(actions))\n",
    "\n",
    "betas = np.concatenate([beta1s, beta2s])\n",
    "\n",
    "plt.scatter(betas,mean_actions)\n",
    "plt.xlabel(r'$\\beta$', fontsize=12)\n",
    "plt.ylabel(r'$\\langle E \\rangle$', rotation=0, labelpad=15, fontsize=12)"
   ],
   "id": "501fd28010ed02f8",
   "outputs": [
    {
     "data": {
      "text/plain": [
       "Text(0, 0.5, '$\\\\langle E \\\\rangle$')"
      ]
     },
     "execution_count": 19,
     "metadata": {},
     "output_type": "execute_result"
    },
    {
     "data": {
      "text/plain": [
       "<Figure size 640x480 with 1 Axes>"
      ],
      "image/png": "[encoded data removed]"
     },
     "metadata": {},
     "output_type": "display_data"
    }
   ],
   "execution_count": 19
  }
 ],
 "metadata": {
  "kernelspec": {
   "display_name": "Python 3",
   "language": "python",
   "name": "python3"
  },
  "language_info": {
   "codemirror_mode": {
    "name": "ipython",
    "version": 2
   },
   "file_extension": ".py",
   "mimetype": "text/x-python",
   "name": "python",
   "nbconvert_exporter": "python",
   "pygments_lexer": "ipython2",
   "version": "2.7.6"
  }
 },
 "nbformat": 4,
 "nbformat_minor": 5
}
