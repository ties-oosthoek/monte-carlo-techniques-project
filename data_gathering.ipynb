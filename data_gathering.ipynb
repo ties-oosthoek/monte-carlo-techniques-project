{
 "cells": [
  {
   "metadata": {},
   "cell_type": "code",
   "outputs": [],
   "execution_count": null,
   "source": [
    "import simulation as sim\n",
    "import h5py\n",
    "import time"
   ],
   "id": "ed9681a72507e5ce"
  },
  {
   "cell_type": "code",
   "execution_count": null,
   "id": "initial_id",
   "metadata": {
    "collapsed": true
   },
   "outputs": [],
   "source": [
    "def gather_data(state,beta,k,n,measurements):\n",
    "    filename = create_dataset(state,beta,k,n)\n",
    "    actions = sim.run_simulation(state,beta,k,n,measurements)\n",
    "\n",
    "def create_dataset(state,beta,k,n):\n",
    "    width = len(state)\n",
    "    filename = \"data_w{}_b{}_{}.hdf5\".format(width,beta,time.strftime(\"%Y%m%d%H%M%S\"))\n",
    "\n",
    "    # create file\n",
    "    with h5py.File(filename,'a') as f:\n",
    "        dataset = f.create_dataset(\"actions\",(0,),maxshape=(None,),dtype='i4',chunks=True)\n",
    "\n",
    "        # store metadata\n",
    "        dataset.attrs[\"version\"] = 1\n",
    "        dataset.attrs[\"lattice size\"] = len(state)\n",
    "        dataset.attrs[\"inverse temperature\"] = beta\n",
    "        dataset.attrs[\"equilibration sweeps\"] = k\n",
    "        dataset.attrs[\"measurement sweeps\"] = n\n",
    "        dataset.attrs[\"start time\"] = time.asctime()\n",
    "        dataset.attrs[\"end time\"] = 0\n",
    "\n",
    "    return filename"
   ]
  }
 ],
 "metadata": {
  "kernelspec": {
   "display_name": "Python 3",
   "language": "python",
   "name": "python3"
  },
  "language_info": {
   "codemirror_mode": {
    "name": "ipython",
    "version": 2
   },
   "file_extension": ".py",
   "mimetype": "text/x-python",
   "name": "python",
   "nbconvert_exporter": "python",
   "pygments_lexer": "ipython2",
   "version": "2.7.6"
  }
 },
 "nbformat": 4,
 "nbformat_minor": 5
}
